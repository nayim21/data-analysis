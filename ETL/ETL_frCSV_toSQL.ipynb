{
 "cells": [
  {
   "cell_type": "code",
   "execution_count": 1,
   "id": "051a7a47",
   "metadata": {},
   "outputs": [],
   "source": [
    "import numpy as np\n",
    "import pandas as pd\n",
    "#from pandas import read_csv\n",
    "from pandas.plotting import autocorrelation_plot\n",
    "from matplotlib import pyplot\n",
    "from sqlalchemy import create_engine\n",
    "import seaborn as sns\n"
   ]
  },
  {
   "cell_type": "code",
   "execution_count": 2,
   "id": "0fdd0407",
   "metadata": {},
   "outputs": [],
   "source": [
    "# Read CSV file"
   ]
  },
  {
   "cell_type": "code",
   "execution_count": 3,
   "id": "091f052e",
   "metadata": {},
   "outputs": [
    {
     "data": {
      "text/html": [
       "<div>\n",
       "<style scoped>\n",
       "    .dataframe tbody tr th:only-of-type {\n",
       "        vertical-align: middle;\n",
       "    }\n",
       "\n",
       "    .dataframe tbody tr th {\n",
       "        vertical-align: top;\n",
       "    }\n",
       "\n",
       "    .dataframe thead th {\n",
       "        text-align: right;\n",
       "    }\n",
       "</style>\n",
       "<table border=\"1\" class=\"dataframe\">\n",
       "  <thead>\n",
       "    <tr style=\"text-align: right;\">\n",
       "      <th></th>\n",
       "      <th>Province Name</th>\n",
       "      <th>Populn</th>\n",
       "      <th>Mle</th>\n",
       "      <th>Fmle</th>\n",
       "    </tr>\n",
       "  </thead>\n",
       "  <tbody>\n",
       "    <tr>\n",
       "      <th>0</th>\n",
       "      <td>Country Total</td>\n",
       "      <td>79926270</td>\n",
       "      <td>40498442</td>\n",
       "      <td>39427828</td>\n",
       "    </tr>\n",
       "    <tr>\n",
       "      <th>1</th>\n",
       "      <td>Markazi</td>\n",
       "      <td>1429475</td>\n",
       "      <td>725751</td>\n",
       "      <td>703724</td>\n",
       "    </tr>\n",
       "    <tr>\n",
       "      <th>2</th>\n",
       "      <td>Gilan</td>\n",
       "      <td>2530696</td>\n",
       "      <td>1267597</td>\n",
       "      <td>1263099</td>\n",
       "    </tr>\n",
       "    <tr>\n",
       "      <th>3</th>\n",
       "      <td>Mazandaran</td>\n",
       "      <td>3283582</td>\n",
       "      <td>1653998</td>\n",
       "      <td>1629584</td>\n",
       "    </tr>\n",
       "    <tr>\n",
       "      <th>4</th>\n",
       "      <td>East Azerbaijan</td>\n",
       "      <td>3909652</td>\n",
       "      <td>1989400</td>\n",
       "      <td>1920252</td>\n",
       "    </tr>\n",
       "  </tbody>\n",
       "</table>\n",
       "</div>"
      ],
      "text/plain": [
       "      Province Name    Populn      Mle      Fmle \n",
       "0    Country Total   79926270  40498442  39427828\n",
       "1           Markazi   1429475    725751    703724\n",
       "2             Gilan   2530696   1267597   1263099\n",
       "3        Mazandaran   3283582   1653998   1629584\n",
       "4  East Azerbaijan    3909652   1989400   1920252"
      ]
     },
     "execution_count": 3,
     "metadata": {},
     "output_type": "execute_result"
    }
   ],
   "source": [
    "df = pd.read_csv(r'd:/dataset/IranPopulation2.csv')\n",
    "df.head()\n"
   ]
  },
  {
   "cell_type": "code",
   "execution_count": 4,
   "id": "a08f38eb",
   "metadata": {},
   "outputs": [
    {
     "name": "stdout",
     "output_type": "stream",
     "text": [
      "<class 'pandas.core.frame.DataFrame'>\n",
      "RangeIndex: 32 entries, 0 to 31\n",
      "Data columns (total 4 columns):\n",
      " #   Column         Non-Null Count  Dtype \n",
      "---  ------         --------------  ----- \n",
      " 0   Province Name  32 non-null     object\n",
      " 1   Populn         32 non-null     int64 \n",
      " 2   Mle            32 non-null     int64 \n",
      " 3   Fmle           32 non-null     int64 \n",
      "dtypes: int64(3), object(1)\n",
      "memory usage: 1.1+ KB\n"
     ]
    }
   ],
   "source": [
    "df.info()"
   ]
  },
  {
   "cell_type": "code",
   "execution_count": 6,
   "id": "d0ad7623",
   "metadata": {},
   "outputs": [
    {
     "data": {
      "text/html": [
       "<div>\n",
       "<style scoped>\n",
       "    .dataframe tbody tr th:only-of-type {\n",
       "        vertical-align: middle;\n",
       "    }\n",
       "\n",
       "    .dataframe tbody tr th {\n",
       "        vertical-align: top;\n",
       "    }\n",
       "\n",
       "    .dataframe thead th {\n",
       "        text-align: right;\n",
       "    }\n",
       "</style>\n",
       "<table border=\"1\" class=\"dataframe\">\n",
       "  <thead>\n",
       "    <tr style=\"text-align: right;\">\n",
       "      <th></th>\n",
       "      <th>Populn</th>\n",
       "      <th>Mle</th>\n",
       "      <th>Fmle</th>\n",
       "    </tr>\n",
       "  </thead>\n",
       "  <tbody>\n",
       "    <tr>\n",
       "      <th>count</th>\n",
       "      <td>3.200000e+01</td>\n",
       "      <td>3.200000e+01</td>\n",
       "      <td>3.200000e+01</td>\n",
       "    </tr>\n",
       "    <tr>\n",
       "      <th>mean</th>\n",
       "      <td>4.995392e+06</td>\n",
       "      <td>2.531153e+06</td>\n",
       "      <td>2.464239e+06</td>\n",
       "    </tr>\n",
       "    <tr>\n",
       "      <th>std</th>\n",
       "      <td>1.388979e+07</td>\n",
       "      <td>7.036485e+06</td>\n",
       "      <td>6.853322e+06</td>\n",
       "    </tr>\n",
       "    <tr>\n",
       "      <th>min</th>\n",
       "      <td>5.801580e+05</td>\n",
       "      <td>2.951990e+05</td>\n",
       "      <td>2.849590e+05</td>\n",
       "    </tr>\n",
       "    <tr>\n",
       "      <th>25%</th>\n",
       "      <td>1.157183e+06</td>\n",
       "      <td>6.120448e+05</td>\n",
       "      <td>5.500595e+05</td>\n",
       "    </tr>\n",
       "    <tr>\n",
       "      <th>50%</th>\n",
       "      <td>1.768532e+06</td>\n",
       "      <td>8.998515e+05</td>\n",
       "      <td>8.686805e+05</td>\n",
       "    </tr>\n",
       "    <tr>\n",
       "      <th>75%</th>\n",
       "      <td>3.269810e+06</td>\n",
       "      <td>1.655078e+06</td>\n",
       "      <td>1.612571e+06</td>\n",
       "    </tr>\n",
       "    <tr>\n",
       "      <th>max</th>\n",
       "      <td>7.992627e+07</td>\n",
       "      <td>4.049844e+07</td>\n",
       "      <td>3.942783e+07</td>\n",
       "    </tr>\n",
       "  </tbody>\n",
       "</table>\n",
       "</div>"
      ],
      "text/plain": [
       "             Populn          Mle          Fmle \n",
       "count  3.200000e+01  3.200000e+01  3.200000e+01\n",
       "mean   4.995392e+06  2.531153e+06  2.464239e+06\n",
       "std    1.388979e+07  7.036485e+06  6.853322e+06\n",
       "min    5.801580e+05  2.951990e+05  2.849590e+05\n",
       "25%    1.157183e+06  6.120448e+05  5.500595e+05\n",
       "50%    1.768532e+06  8.998515e+05  8.686805e+05\n",
       "75%    3.269810e+06  1.655078e+06  1.612571e+06\n",
       "max    7.992627e+07  4.049844e+07  3.942783e+07"
      ]
     },
     "execution_count": 6,
     "metadata": {},
     "output_type": "execute_result"
    }
   ],
   "source": [
    "df.describe()"
   ]
  },
  {
   "cell_type": "code",
   "execution_count": 4,
   "id": "ca8a9018",
   "metadata": {},
   "outputs": [
    {
     "data": {
      "text/plain": [
       "0                  Country Total \n",
       "1                         Markazi\n",
       "2                           Gilan\n",
       "3                      Mazandaran\n",
       "4                East Azerbaijan \n",
       "5                West Azerbaijan \n",
       "6                      Kermanshah\n",
       "7                       Khuzestan\n",
       "8                            Fars\n",
       "9                         Kerman \n",
       "10               Razavi Khorasan \n",
       "11                        Isfahan\n",
       "12        Sistan and Baluchestan \n",
       "13                     Kurdistan \n",
       "14                        Hamadan\n",
       "15     Chaharmahal and Bakhtiari \n",
       "16                       Lorestan\n",
       "17                          Ilam \n",
       "18    Kohgiluyeh and Boyer-Ahmad \n",
       "19                       Bushehr \n",
       "20                         Zanjan\n",
       "21                         Semnan\n",
       "22                           Yazd\n",
       "23                      Hormozgan\n",
       "24                         Tehran\n",
       "25                        Ardabil\n",
       "26                            Qom\n",
       "27                         Qazvin\n",
       "28                       Golestan\n",
       "29                North Khorasan \n",
       "30                South Khorasan \n",
       "31                         Alborz\n",
       "Name: Province Name, dtype: object"
      ]
     },
     "execution_count": 4,
     "metadata": {},
     "output_type": "execute_result"
    }
   ],
   "source": [
    "df[\"Province Name\"]"
   ]
  },
  {
   "cell_type": "code",
   "execution_count": 7,
   "id": "4fb048e4",
   "metadata": {},
   "outputs": [
    {
     "data": {
      "text/plain": [
       "<seaborn.axisgrid.PairGrid at 0x22144b09d00>"
      ]
     },
     "execution_count": 7,
     "metadata": {},
     "output_type": "execute_result"
    },
    {
     "data": {
      "image/png": "[encoded data removed]",
      "text/plain": [
       "<Figure size 750x750 with 12 Axes>"
      ]
     },
     "metadata": {},
     "output_type": "display_data"
    }
   ],
   "source": [
    "sns.pairplot(df)"
   ]
  },
  {
   "cell_type": "code",
   "execution_count": 8,
   "id": "94bf4796",
   "metadata": {},
   "outputs": [],
   "source": [
    "#  Transfer To SQL"
   ]
  },
  {
   "cell_type": "code",
   "execution_count": 9,
   "id": "5a14c225",
   "metadata": {},
   "outputs": [
    {
     "data": {
      "text/plain": [
       "32"
      ]
     },
     "execution_count": 9,
     "metadata": {},
     "output_type": "execute_result"
    }
   ],
   "source": [
    "disk_engine = create_engine('sqlite:///myetl.db')\n",
    "df.to_sql('ETL', disk_engine, if_exists='replace')"
   ]
  },
  {
   "cell_type": "code",
   "execution_count": null,
   "id": "a8165c88",
   "metadata": {},
   "outputs": [],
   "source": []
  }
 ],
 "metadata": {
  "kernelspec": {
   "display_name": "Python 3 (ipykernel)",
   "language": "python",
   "name": "python3"
  },
  "language_info": {
   "codemirror_mode": {
    "name": "ipython",
    "version": 3
   },
   "file_extension": ".py",
   "mimetype": "text/x-python",
   "name": "python",
   "nbconvert_exporter": "python",
   "pygments_lexer": "ipython3",
   "version": "3.9.13"
  }
 },
 "nbformat": 4,
 "nbformat_minor": 5
}
