{
 "cells": [
  {
   "cell_type": "code",
   "execution_count": 38,
   "id": "051a7a47",
   "metadata": {},
   "outputs": [],
   "source": [
    "import numpy as np\n",
    "import pandas as pd\n",
    "#from pandas import read_csv\n",
    "from pandas.plotting import autocorrelation_plot\n",
    "from matplotlib import pyplot\n",
    "#from sqlalchemy import create_engine\n",
    "\n"
   ]
  },
  {
   "cell_type": "code",
   "execution_count": 39,
   "id": "1e6f59c4",
   "metadata": {},
   "outputs": [],
   "source": [
    "#!pip install mysql-connector-python\n"
   ]
  },
  {
   "cell_type": "code",
   "execution_count": 40,
   "id": "d20801fd",
   "metadata": {},
   "outputs": [],
   "source": [
    "#import mysql\n",
    "#import mysql.connector\n",
    "import pyodbc\n"
   ]
  },
  {
   "cell_type": "code",
   "execution_count": null,
   "id": "63db8406",
   "metadata": {},
   "outputs": [],
   "source": [
    "# Connection To ODBC"
   ]
  },
  {
   "cell_type": "code",
   "execution_count": 41,
   "id": "00ebcf01",
   "metadata": {},
   "outputs": [],
   "source": [
    "conn = pyodbc.connect('Driver={SQL Server}; Server=ASUS; Trusted_Connection=No;')\n"
   ]
  },
  {
   "cell_type": "code",
   "execution_count": null,
   "id": "5f529c57",
   "metadata": {},
   "outputs": [],
   "source": [
    "# Read from SQL"
   ]
  },
  {
   "cell_type": "code",
   "execution_count": 42,
   "id": "4d196c83",
   "metadata": {},
   "outputs": [
    {
     "name": "stderr",
     "output_type": "stream",
     "text": [
      "C:\\ProgramData\\Anaconda3\\lib\\site-packages\\pandas\\io\\sql.py:762: UserWarning: pandas only support SQLAlchemy connectable(engine/connection) ordatabase string URI or sqlite3 DBAPI2 connectionother DBAPI2 objects are not tested, please consider using SQLAlchemy\n",
      "  warnings.warn(\n"
     ]
    }
   ],
   "source": [
    "\n",
    "query=\"Select * from db2.dbo.ETL1\"\n",
    "df2 = pd.read_sql(query, conn)\n",
    "df2.to_csv(r'd:/dataset/Pop2.csv')\n",
    "#df = pd.read_sql(\"Select * from dbo.ETL1\", conn)"
   ]
  },
  {
   "cell_type": "code",
   "execution_count": 43,
   "id": "10b333a4",
   "metadata": {},
   "outputs": [
    {
     "data": {
      "text/html": [
       "<div>\n",
       "<style scoped>\n",
       "    .dataframe tbody tr th:only-of-type {\n",
       "        vertical-align: middle;\n",
       "    }\n",
       "\n",
       "    .dataframe tbody tr th {\n",
       "        vertical-align: top;\n",
       "    }\n",
       "\n",
       "    .dataframe thead th {\n",
       "        text-align: right;\n",
       "    }\n",
       "</style>\n",
       "<table border=\"1\" class=\"dataframe\">\n",
       "  <thead>\n",
       "    <tr style=\"text-align: right;\">\n",
       "      <th></th>\n",
       "      <th>Province Name</th>\n",
       "      <th>Population</th>\n",
       "      <th>Male</th>\n",
       "      <th>Female</th>\n",
       "    </tr>\n",
       "  </thead>\n",
       "  <tbody>\n",
       "    <tr>\n",
       "      <th>0</th>\n",
       "      <td>Total</td>\n",
       "      <td>79926270</td>\n",
       "      <td>40498442</td>\n",
       "      <td>39427828</td>\n",
       "    </tr>\n",
       "    <tr>\n",
       "      <th>1</th>\n",
       "      <td>Markazi</td>\n",
       "      <td>1429475</td>\n",
       "      <td>725751</td>\n",
       "      <td>703724</td>\n",
       "    </tr>\n",
       "    <tr>\n",
       "      <th>2</th>\n",
       "      <td>Gilan</td>\n",
       "      <td>2530696</td>\n",
       "      <td>1267597</td>\n",
       "      <td>1263099</td>\n",
       "    </tr>\n",
       "    <tr>\n",
       "      <th>3</th>\n",
       "      <td>Mazandaran</td>\n",
       "      <td>3283582</td>\n",
       "      <td>1653998</td>\n",
       "      <td>1629584</td>\n",
       "    </tr>\n",
       "    <tr>\n",
       "      <th>4</th>\n",
       "      <td>East Azerbaijan</td>\n",
       "      <td>3909652</td>\n",
       "      <td>1989400</td>\n",
       "      <td>1920252</td>\n",
       "    </tr>\n",
       "  </tbody>\n",
       "</table>\n",
       "</div>"
      ],
      "text/plain": [
       "      Province Name  Population      Male    Female\n",
       "0             Total    79926270  40498442  39427828\n",
       "1           Markazi     1429475    725751    703724\n",
       "2             Gilan     2530696   1267597   1263099\n",
       "3        Mazandaran     3283582   1653998   1629584\n",
       "4  East Azerbaijan      3909652   1989400   1920252"
      ]
     },
     "execution_count": 43,
     "metadata": {},
     "output_type": "execute_result"
    }
   ],
   "source": [
    "df2.head()"
   ]
  },
  {
   "cell_type": "code",
   "execution_count": null,
   "id": "40ca62d8",
   "metadata": {},
   "outputs": [],
   "source": []
  }
 ],
 "metadata": {
  "kernelspec": {
   "display_name": "Python 3 (ipykernel)",
   "language": "python",
   "name": "python3"
  },
  "language_info": {
   "codemirror_mode": {
    "name": "ipython",
    "version": 3
   },
   "file_extension": ".py",
   "mimetype": "text/x-python",
   "name": "python",
   "nbconvert_exporter": "python",
   "pygments_lexer": "ipython3",
   "version": "3.9.13"
  }
 },
 "nbformat": 4,
 "nbformat_minor": 5
}
